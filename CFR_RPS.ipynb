{
  "nbformat": 4,
  "nbformat_minor": 0,
  "metadata": {
    "colab": {
      "name": "CFR_RPS.ipynb",
      "provenance": [],
      "collapsed_sections": [],
      "authorship_tag": "ABX9TyOienQYrM0SnDCyruKQ/6PJ",
      "include_colab_link": true
    },
    "kernelspec": {
      "name": "python3",
      "display_name": "Python 3"
    },
    "language_info": {
      "name": "python"
    }
  },
  "cells": [
    {
      "cell_type": "markdown",
      "metadata": {
        "id": "view-in-github",
        "colab_type": "text"
      },
      "source": [
        "<a href=\"https://colab.research.google.com/github/yusuke-sk/cfr/blob/main/CFR_RPS.ipynb\" target=\"_parent\"><img src=\"https://colab.research.google.com/assets/colab-badge.svg\" alt=\"Open In Colab\"/></a>"
      ]
    },
    {
      "cell_type": "code",
      "metadata": {
        "id": "ZhYszTvBCCcD"
      },
      "source": [
        "import random\n",
        "\n",
        "class RPSTrainer:\n",
        "  def __init__(self):\n",
        "    self.ROCK = 0\n",
        "    self.PAPER = 1\n",
        "    self.SCISSORS = 2\n",
        "    self.NUM_ACTIONS = 3\n",
        "\n",
        "    self.regretSum = [0 for _ in range(self.NUM_ACTIONS)]\n",
        "    self.strategy = [0 for _ in range(self.NUM_ACTIONS)]\n",
        "    self.strategySum = [0 for _ in range(self.NUM_ACTIONS)]\n",
        "    self.oppStrategy = [0.4, 0.3, 0.3]\n",
        "    self.iteration = 100000\n",
        "    self.actionUtility = [0 for _ in range(self.NUM_ACTIONS)]\n",
        "\n",
        "\n",
        "  def getStrategy(self):\n",
        "    self.normalizingSum = 0\n",
        "    for a in range(self.NUM_ACTIONS):\n",
        "      self.strategy[a] = self.regretSum[a] if self.regretSum[a]>0 else 0 \n",
        "      self.normalizingSum += self.strategy[a]\n",
        "\n",
        "    for a in range(self.NUM_ACTIONS):\n",
        "      if self.normalizingSum >0 :\n",
        "        self.strategy[a] /= self.normalizingSum\n",
        "      else:\n",
        "        self.strategy[a] = 1/self.NUM_ACTIONS\n",
        "      self.strategySum[a] += self.strategy[a]\n",
        "\n",
        "  def getAction(self, strategy):\n",
        "    r = random.random()\n",
        "    a = 0\n",
        "    self.cumulativeProbability = 0\n",
        "    while  a < self.NUM_ACTIONS -1 :\n",
        "      self.cumulativeProbability += strategy[a]\n",
        "      if r < self.cumulativeProbability:\n",
        "        break\n",
        "      a += 1\n",
        "    return a\n",
        "\n",
        "  def Get_regret_matched_mixed_strategy_actions(self):\n",
        "    self.getStrategy()\n",
        "    self.myAction = self.getAction(self.strategy)\n",
        "    self.otherAction = self.getAction(self.oppStrategy)\n",
        "\n",
        "\n",
        "  def Compute_action_utilities(self):\n",
        "    self.actionUtility[self.otherAction] = 0\n",
        "    self.actionUtility[0 if self.otherAction == self.NUM_ACTIONS -1 else self.otherAction+1] = 1\n",
        "    self.actionUtility[self.NUM_ACTIONS-1 if self.otherAction == 0 else self.otherAction-1] = -1\n",
        "\n",
        "\n",
        "  def Accumulate_action_regrets(self):\n",
        "    for a in range(self.NUM_ACTIONS):\n",
        "      self.regretSum[a] += self.actionUtility[a] - self.actionUtility[self.myAction]\n",
        "\n",
        "  def train(self):\n",
        "    for i in range(self.iteration):\n",
        "      self.Get_regret_matched_mixed_strategy_actions()\n",
        "      #print(self.regretSum, self.strategy, self.myAction, self.otherAction)\n",
        "      self.Compute_action_utilities()\n",
        "      self.Accumulate_action_regrets()\n",
        "\n",
        "\n",
        "  def Get_average_mixed_strategy(self):\n",
        "    self.avgStrategy = [0 for _ in range(self.NUM_ACTIONS)]\n",
        "    self.normalizingSum = 0\n",
        "    for a in range(self.NUM_ACTIONS):\n",
        "      self.normalizingSum += self.strategySum[a]\n",
        "    for a in range(self.NUM_ACTIONS):\n",
        "      if self.normalizingSum >0 :\n",
        "        self.avgStrategy[a] = self.strategySum[a] / self.normalizingSum\n",
        "      else:\n",
        "        self.avgStrategy[a] = 1/ self.NUM_ACTIONS\n",
        "    return self.avgStrategy "
      ],
      "execution_count": null,
      "outputs": []
    },
    {
      "cell_type": "code",
      "metadata": {
        "colab": {
          "base_uri": "https://localhost:8080/"
        },
        "id": "ZY1FKp4oCA2I",
        "outputId": "059e126d-c4c6-4d02-8278-9844801adf8c"
      },
      "source": [
        "trainer = RPSTrainer()\n",
        "trainer.train()\n",
        "trainer.Get_average_mixed_strategy()"
      ],
      "execution_count": null,
      "outputs": [
        {
          "output_type": "execute_result",
          "data": {
            "text/plain": [
              "[3.3333333333333337e-06, 0.9999933333333334, 3.3333333333333337e-06]"
            ]
          },
          "metadata": {},
          "execution_count": 3
        }
      ]
    },
    {
      "cell_type": "markdown",
      "metadata": {
        "id": "xHG-KpNXaVA3"
      },
      "source": [
        "# ---------------------------------------------------------------------------------------------------------------------------------------------"
      ]
    },
    {
      "cell_type": "code",
      "metadata": {
        "id": "Lu4fbl7UwxLl"
      },
      "source": [
        "import random"
      ],
      "execution_count": null,
      "outputs": []
    },
    {
      "cell_type": "code",
      "metadata": {
        "id": "nw5FW60_s3ju"
      },
      "source": [
        "#action\n",
        "ROCK = 0\n",
        "PAPER = 1\n",
        "SCISSORS = 2\n",
        "NUM_ACTIONS = 3"
      ],
      "execution_count": null,
      "outputs": []
    },
    {
      "cell_type": "code",
      "metadata": {
        "id": "BUF16S5FtLmj"
      },
      "source": [
        "#配列\n",
        "regretSum = [0 for _ in range(NUM_ACTIONS)]\n",
        "strategy = [0 for _ in range(NUM_ACTIONS)]\n",
        "strategySum = [0 for _ in range(NUM_ACTIONS)]\n",
        "oppStrategy = [0.4, 0.3, 0.3]\n",
        "\n",
        "iteration = 1000000"
      ],
      "execution_count": null,
      "outputs": []
    },
    {
      "cell_type": "code",
      "metadata": {
        "id": "02kogPqitc1A"
      },
      "source": [
        "def getStrategy(strategy, strategySum, regretSum):\n",
        "  normalizingSum = 0\n",
        "  for a in range(NUM_ACTIONS):\n",
        "    strategy[a] = regretSum[a] if regretSum[a]>0 else 0 \n",
        "    normalizingSum += strategy[a]\n",
        "\n",
        "  for a in range(NUM_ACTIONS):\n",
        "    if normalizingSum >0 :\n",
        "      strategy[a] /= normalizingSum\n",
        "    else:\n",
        "      strategy[a] = 1/NUM_ACTIONS\n",
        "    strategySum[a] += strategy[a]\n",
        "\n",
        "  return strategy, strategySum, regretSum"
      ],
      "execution_count": null,
      "outputs": []
    },
    {
      "cell_type": "code",
      "metadata": {
        "id": "c9aRfqdrvDxG"
      },
      "source": [
        "def getAction(strategy):\n",
        "  r = random.random()\n",
        "  a = 0\n",
        "  cumulativeProbability = 0\n",
        "  while  a < NUM_ACTIONS -1 :\n",
        "    cumulativeProbability += strategy[a]\n",
        "    if r < cumulativeProbability:\n",
        "      break\n",
        "    a += 1\n",
        "  return a"
      ],
      "execution_count": null,
      "outputs": []
    },
    {
      "cell_type": "code",
      "metadata": {
        "id": "3j6yPX9E4WDP"
      },
      "source": [
        "def Get_regret_matched_mixed_strategy_actions(strategy, strategySum, regretSum):\n",
        "  strategy, strategySum, regretSum = getStrategy(strategy, strategySum, regretSum)\n",
        "  myAction = getAction(strategy)\n",
        "  otherAction = getAction(oppStrategy)\n",
        "  return myAction, otherAction, strategy, strategySum, regretSum"
      ],
      "execution_count": null,
      "outputs": []
    },
    {
      "cell_type": "code",
      "metadata": {
        "id": "ZLRQN9W16xye"
      },
      "source": [
        "def Compute_action_utilities(myAction, otherAction, actionUtility):\n",
        "  actionUtility[otherAction] = 0\n",
        "  actionUtility[0 if otherAction == NUM_ACTIONS -1 else otherAction+1] = 1\n",
        "  actionUtility[NUM_ACTIONS-1 if otherAction == 0 else otherAction-1] = -1\n",
        "  return actionUtility"
      ],
      "execution_count": null,
      "outputs": []
    },
    {
      "cell_type": "code",
      "metadata": {
        "id": "gGGi2Bf39s8q"
      },
      "source": [
        "def Accumulate_action_regrets(actionUtility, regretSum, myAction):\n",
        "  for a in range(NUM_ACTIONS):\n",
        "    regretSum[a] += actionUtility[a] - actionUtility[myAction]\n",
        "  return regretSum"
      ],
      "execution_count": null,
      "outputs": []
    },
    {
      "cell_type": "code",
      "metadata": {
        "id": "gxQKiPsBxinC"
      },
      "source": [
        "def train(iteraion, strategy, strategySum, regretSum):\n",
        "  actionUtility = [0 for _ in range(NUM_ACTIONS)]\n",
        "  for i in range(iteraion):\n",
        "    myAction, otherAction, strategy, strategySum, regretSum = Get_regret_matched_mixed_strategy_actions(strategy, strategySum, regretSum)\n",
        "    actionUtility = Compute_action_utilities(myAction, otherAction, actionUtility)\n",
        "    regretSum = Accumulate_action_regrets(actionUtility, regretSum, myAction)\n",
        "  return strategySum"
      ],
      "execution_count": null,
      "outputs": []
    },
    {
      "cell_type": "code",
      "metadata": {
        "id": "XSavp_Hd8_-g"
      },
      "source": [
        "def Get_average_mixed_strategy(StrategySum):\n",
        "  avgStrategy = [0 for _ in range(NUM_ACTIONS)]\n",
        "  normalizingSum = 0\n",
        "  for a in range(NUM_ACTIONS):\n",
        "    normalizingSum += strategySum[a]\n",
        "  for a in range(NUM_ACTIONS):\n",
        "    if normalizingSum >0 :\n",
        "      avgStrategy[a] = strategySum[a] / normalizingSum\n",
        "    else:\n",
        "      avgStrategy[a] = 1/ NUM_ACTIONS\n",
        "  return avgStrategy"
      ],
      "execution_count": null,
      "outputs": []
    },
    {
      "cell_type": "code",
      "metadata": {
        "id": "aGpODD0Y_KqU"
      },
      "source": [
        "strategySum = train(iteration, strategy, strategySum, regretSum)\n",
        "avgStrategy = Get_average_mixed_strategy(strategySum)"
      ],
      "execution_count": null,
      "outputs": []
    },
    {
      "cell_type": "code",
      "metadata": {
        "id": "utqvz7qJAAX1"
      },
      "source": [
        "avgStrategy"
      ],
      "execution_count": null,
      "outputs": []
    }
  ]
}