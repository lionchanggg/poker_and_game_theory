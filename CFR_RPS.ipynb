{
  "nbformat": 4,
  "nbformat_minor": 0,
  "metadata": {
    "colab": {
      "name": "CFR_RPS.ipynb",
      "provenance": [],
      "collapsed_sections": [],
      "mount_file_id": "1zob2wyQKvPqnkm2iQZQAIpcnvGOPirrV",
      "authorship_tag": "ABX9TyMLN6nszbPFHlMl5V5W1TjB",
      "include_colab_link": true
    },
    "kernelspec": {
      "name": "python3",
      "display_name": "Python 3"
    },
    "language_info": {
      "name": "python"
    },
    "widgets": {
      "application/vnd.jupyter.widget-state+json": {
        "478d73833e33444ea8f0dec9f7bbaf42": {
          "model_module": "@jupyter-widgets/controls",
          "model_name": "HBoxModel",
          "model_module_version": "1.5.0",
          "state": {
            "_view_name": "HBoxView",
            "_dom_classes": [],
            "_model_name": "HBoxModel",
            "_view_module": "@jupyter-widgets/controls",
            "_model_module_version": "1.5.0",
            "_view_count": null,
            "_view_module_version": "1.5.0",
            "box_style": "",
            "layout": "IPY_MODEL_ae0cb4c796124c25abfcaab6257bb946",
            "_model_module": "@jupyter-widgets/controls",
            "children": [
              "IPY_MODEL_f42e509304e64ec28aeed14442df8017",
              "IPY_MODEL_2a0adc5a75994591b9c4653b7374947a",
              "IPY_MODEL_61752eea269e450f99ea5ee7bbda1d4e"
            ]
          }
        },
        "ae0cb4c796124c25abfcaab6257bb946": {
          "model_module": "@jupyter-widgets/base",
          "model_name": "LayoutModel",
          "model_module_version": "1.2.0",
          "state": {
            "_view_name": "LayoutView",
            "grid_template_rows": null,
            "right": null,
            "justify_content": null,
            "_view_module": "@jupyter-widgets/base",
            "overflow": null,
            "_model_module_version": "1.2.0",
            "_view_count": null,
            "flex_flow": null,
            "width": null,
            "min_width": null,
            "border": null,
            "align_items": null,
            "bottom": null,
            "_model_module": "@jupyter-widgets/base",
            "top": null,
            "grid_column": null,
            "overflow_y": null,
            "overflow_x": null,
            "grid_auto_flow": null,
            "grid_area": null,
            "grid_template_columns": null,
            "flex": null,
            "_model_name": "LayoutModel",
            "justify_items": null,
            "grid_row": null,
            "max_height": null,
            "align_content": null,
            "visibility": null,
            "align_self": null,
            "height": null,
            "min_height": null,
            "padding": null,
            "grid_auto_rows": null,
            "grid_gap": null,
            "max_width": null,
            "order": null,
            "_view_module_version": "1.2.0",
            "grid_template_areas": null,
            "object_position": null,
            "object_fit": null,
            "grid_auto_columns": null,
            "margin": null,
            "display": null,
            "left": null
          }
        },
        "f42e509304e64ec28aeed14442df8017": {
          "model_module": "@jupyter-widgets/controls",
          "model_name": "HTMLModel",
          "model_module_version": "1.5.0",
          "state": {
            "_view_name": "HTMLView",
            "style": "IPY_MODEL_b2d0de1eaa044ff5b92bf682883fc712",
            "_dom_classes": [],
            "description": "",
            "_model_name": "HTMLModel",
            "placeholder": "​",
            "_view_module": "@jupyter-widgets/controls",
            "_model_module_version": "1.5.0",
            "value": "100%",
            "_view_count": null,
            "_view_module_version": "1.5.0",
            "description_tooltip": null,
            "_model_module": "@jupyter-widgets/controls",
            "layout": "IPY_MODEL_d915a2bfee524902a699dbb6892ddc6c"
          }
        },
        "2a0adc5a75994591b9c4653b7374947a": {
          "model_module": "@jupyter-widgets/controls",
          "model_name": "FloatProgressModel",
          "model_module_version": "1.5.0",
          "state": {
            "_view_name": "ProgressView",
            "style": "IPY_MODEL_37be6f8ae201454cb1adbd2266b13813",
            "_dom_classes": [],
            "description": "",
            "_model_name": "FloatProgressModel",
            "bar_style": "success",
            "max": 100000,
            "_view_module": "@jupyter-widgets/controls",
            "_model_module_version": "1.5.0",
            "value": 100000,
            "_view_count": null,
            "_view_module_version": "1.5.0",
            "orientation": "horizontal",
            "min": 0,
            "description_tooltip": null,
            "_model_module": "@jupyter-widgets/controls",
            "layout": "IPY_MODEL_0739987cf7004e198f98e9362df2d899"
          }
        },
        "61752eea269e450f99ea5ee7bbda1d4e": {
          "model_module": "@jupyter-widgets/controls",
          "model_name": "HTMLModel",
          "model_module_version": "1.5.0",
          "state": {
            "_view_name": "HTMLView",
            "style": "IPY_MODEL_49cb113e445d4d5e8a9e72ce2ea1d8a1",
            "_dom_classes": [],
            "description": "",
            "_model_name": "HTMLModel",
            "placeholder": "​",
            "_view_module": "@jupyter-widgets/controls",
            "_model_module_version": "1.5.0",
            "value": " 100000/100000 [00:01&lt;00:00, 107352.95it/s]",
            "_view_count": null,
            "_view_module_version": "1.5.0",
            "description_tooltip": null,
            "_model_module": "@jupyter-widgets/controls",
            "layout": "IPY_MODEL_5871776645ee497b855f1a4c696ba29c"
          }
        },
        "b2d0de1eaa044ff5b92bf682883fc712": {
          "model_module": "@jupyter-widgets/controls",
          "model_name": "DescriptionStyleModel",
          "model_module_version": "1.5.0",
          "state": {
            "_view_name": "StyleView",
            "_model_name": "DescriptionStyleModel",
            "description_width": "",
            "_view_module": "@jupyter-widgets/base",
            "_model_module_version": "1.5.0",
            "_view_count": null,
            "_view_module_version": "1.2.0",
            "_model_module": "@jupyter-widgets/controls"
          }
        },
        "d915a2bfee524902a699dbb6892ddc6c": {
          "model_module": "@jupyter-widgets/base",
          "model_name": "LayoutModel",
          "model_module_version": "1.2.0",
          "state": {
            "_view_name": "LayoutView",
            "grid_template_rows": null,
            "right": null,
            "justify_content": null,
            "_view_module": "@jupyter-widgets/base",
            "overflow": null,
            "_model_module_version": "1.2.0",
            "_view_count": null,
            "flex_flow": null,
            "width": null,
            "min_width": null,
            "border": null,
            "align_items": null,
            "bottom": null,
            "_model_module": "@jupyter-widgets/base",
            "top": null,
            "grid_column": null,
            "overflow_y": null,
            "overflow_x": null,
            "grid_auto_flow": null,
            "grid_area": null,
            "grid_template_columns": null,
            "flex": null,
            "_model_name": "LayoutModel",
            "justify_items": null,
            "grid_row": null,
            "max_height": null,
            "align_content": null,
            "visibility": null,
            "align_self": null,
            "height": null,
            "min_height": null,
            "padding": null,
            "grid_auto_rows": null,
            "grid_gap": null,
            "max_width": null,
            "order": null,
            "_view_module_version": "1.2.0",
            "grid_template_areas": null,
            "object_position": null,
            "object_fit": null,
            "grid_auto_columns": null,
            "margin": null,
            "display": null,
            "left": null
          }
        },
        "37be6f8ae201454cb1adbd2266b13813": {
          "model_module": "@jupyter-widgets/controls",
          "model_name": "ProgressStyleModel",
          "model_module_version": "1.5.0",
          "state": {
            "_view_name": "StyleView",
            "_model_name": "ProgressStyleModel",
            "description_width": "",
            "_view_module": "@jupyter-widgets/base",
            "_model_module_version": "1.5.0",
            "_view_count": null,
            "_view_module_version": "1.2.0",
            "bar_color": null,
            "_model_module": "@jupyter-widgets/controls"
          }
        },
        "0739987cf7004e198f98e9362df2d899": {
          "model_module": "@jupyter-widgets/base",
          "model_name": "LayoutModel",
          "model_module_version": "1.2.0",
          "state": {
            "_view_name": "LayoutView",
            "grid_template_rows": null,
            "right": null,
            "justify_content": null,
            "_view_module": "@jupyter-widgets/base",
            "overflow": null,
            "_model_module_version": "1.2.0",
            "_view_count": null,
            "flex_flow": null,
            "width": null,
            "min_width": null,
            "border": null,
            "align_items": null,
            "bottom": null,
            "_model_module": "@jupyter-widgets/base",
            "top": null,
            "grid_column": null,
            "overflow_y": null,
            "overflow_x": null,
            "grid_auto_flow": null,
            "grid_area": null,
            "grid_template_columns": null,
            "flex": null,
            "_model_name": "LayoutModel",
            "justify_items": null,
            "grid_row": null,
            "max_height": null,
            "align_content": null,
            "visibility": null,
            "align_self": null,
            "height": null,
            "min_height": null,
            "padding": null,
            "grid_auto_rows": null,
            "grid_gap": null,
            "max_width": null,
            "order": null,
            "_view_module_version": "1.2.0",
            "grid_template_areas": null,
            "object_position": null,
            "object_fit": null,
            "grid_auto_columns": null,
            "margin": null,
            "display": null,
            "left": null
          }
        },
        "49cb113e445d4d5e8a9e72ce2ea1d8a1": {
          "model_module": "@jupyter-widgets/controls",
          "model_name": "DescriptionStyleModel",
          "model_module_version": "1.5.0",
          "state": {
            "_view_name": "StyleView",
            "_model_name": "DescriptionStyleModel",
            "description_width": "",
            "_view_module": "@jupyter-widgets/base",
            "_model_module_version": "1.5.0",
            "_view_count": null,
            "_view_module_version": "1.2.0",
            "_model_module": "@jupyter-widgets/controls"
          }
        },
        "5871776645ee497b855f1a4c696ba29c": {
          "model_module": "@jupyter-widgets/base",
          "model_name": "LayoutModel",
          "model_module_version": "1.2.0",
          "state": {
            "_view_name": "LayoutView",
            "grid_template_rows": null,
            "right": null,
            "justify_content": null,
            "_view_module": "@jupyter-widgets/base",
            "overflow": null,
            "_model_module_version": "1.2.0",
            "_view_count": null,
            "flex_flow": null,
            "width": null,
            "min_width": null,
            "border": null,
            "align_items": null,
            "bottom": null,
            "_model_module": "@jupyter-widgets/base",
            "top": null,
            "grid_column": null,
            "overflow_y": null,
            "overflow_x": null,
            "grid_auto_flow": null,
            "grid_area": null,
            "grid_template_columns": null,
            "flex": null,
            "_model_name": "LayoutModel",
            "justify_items": null,
            "grid_row": null,
            "max_height": null,
            "align_content": null,
            "visibility": null,
            "align_self": null,
            "height": null,
            "min_height": null,
            "padding": null,
            "grid_auto_rows": null,
            "grid_gap": null,
            "max_width": null,
            "order": null,
            "_view_module_version": "1.2.0",
            "grid_template_areas": null,
            "object_position": null,
            "object_fit": null,
            "grid_auto_columns": null,
            "margin": null,
            "display": null,
            "left": null
          }
        }
      }
    }
  },
  "cells": [
    {
      "cell_type": "markdown",
      "metadata": {
        "id": "view-in-github",
        "colab_type": "text"
      },
      "source": [
        "<a href=\"https://colab.research.google.com/github/yusuke-sk/cfr/blob/main/CFR_RPS.ipynb\" target=\"_parent\"><img src=\"https://colab.research.google.com/assets/colab-badge.svg\" alt=\"Open In Colab\"/></a>"
      ]
    },
    {
      "cell_type": "markdown",
      "metadata": {
        "id": "4QbLhtCyaqaj"
      },
      "source": [
        "## ライブラリ"
      ]
    },
    {
      "cell_type": "code",
      "metadata": {
        "id": "zkpEJonfasnT"
      },
      "source": [
        "import random\n",
        "from tqdm.notebook import tqdm "
      ],
      "execution_count": 9,
      "outputs": []
    },
    {
      "cell_type": "markdown",
      "metadata": {
        "id": "8raOPr-dauWl"
      },
      "source": [
        "## class RPS Trainer"
      ]
    },
    {
      "cell_type": "code",
      "metadata": {
        "id": "ZhYszTvBCCcD"
      },
      "source": [
        "class RPSTrainer:\n",
        "  def __init__(self):\n",
        "    self.ROCK = 0\n",
        "    self.PAPER = 1\n",
        "    self.SCISSORS = 2\n",
        "    self.NUM_ACTIONS = 3\n",
        "\n",
        "    self.regretSum = [0 for _ in range(self.NUM_ACTIONS)]\n",
        "    self.strategy = [0 for _ in range(self.NUM_ACTIONS)]\n",
        "    self.strategySum = [0 for _ in range(self.NUM_ACTIONS)]\n",
        "    self.oppStrategy = [0.4, 0.3, 0.3]\n",
        "    self.iterations = 100000\n",
        "    self.actionUtility = [0 for _ in range(self.NUM_ACTIONS)]\n",
        "\n",
        "\n",
        "  def getStrategy(self):\n",
        "    self.normalizingSum = 0\n",
        "    for a in range(self.NUM_ACTIONS):\n",
        "      self.strategy[a] = self.regretSum[a] if self.regretSum[a]>0 else 0 \n",
        "      self.normalizingSum += self.strategy[a]\n",
        "\n",
        "    for a in range(self.NUM_ACTIONS):\n",
        "      if self.normalizingSum >0 :\n",
        "        self.strategy[a] /= self.normalizingSum\n",
        "      else:\n",
        "        self.strategy[a] = 1/self.NUM_ACTIONS\n",
        "      self.strategySum[a] += self.strategy[a]\n",
        "\n",
        "  def getAction(self, strategy):\n",
        "    r = random.random()\n",
        "    a = 0\n",
        "    self.cumulativeProbability = 0\n",
        "    while  a < self.NUM_ACTIONS -1 :\n",
        "      self.cumulativeProbability += strategy[a]\n",
        "      if r < self.cumulativeProbability:\n",
        "        break\n",
        "      a += 1\n",
        "    return a\n",
        "\n",
        "  def Get_regret_matched_mixed_strategy_actions(self):\n",
        "    self.getStrategy()\n",
        "    self.myAction = self.getAction(self.strategy)\n",
        "    self.otherAction = self.getAction(self.oppStrategy)\n",
        "\n",
        "\n",
        "  def Compute_action_utilities(self):\n",
        "    self.actionUtility[self.otherAction] = 0\n",
        "    self.actionUtility[0 if self.otherAction == self.NUM_ACTIONS -1 else self.otherAction+1] = 1\n",
        "    self.actionUtility[self.NUM_ACTIONS-1 if self.otherAction == 0 else self.otherAction-1] = -1\n",
        "\n",
        "\n",
        "  def Accumulate_action_regrets(self):\n",
        "    for a in range(self.NUM_ACTIONS):\n",
        "      self.regretSum[a] += self.actionUtility[a] - self.actionUtility[self.myAction]\n",
        "\n",
        "  def train(self):\n",
        "    for i in tqdm(range(self.iterations)):\n",
        "      self.Get_regret_matched_mixed_strategy_actions()\n",
        "      #print(self.regretSum, self.strategy, self.myAction, self.otherAction)\n",
        "      self.Compute_action_utilities()\n",
        "      self.Accumulate_action_regrets()\n",
        "\n",
        "\n",
        "  def Get_average_mixed_strategy(self):\n",
        "    self.avgStrategy = [0 for _ in range(self.NUM_ACTIONS)]\n",
        "    self.normalizingSum = 0\n",
        "    for a in range(self.NUM_ACTIONS):\n",
        "      self.normalizingSum += self.strategySum[a]\n",
        "    for a in range(self.NUM_ACTIONS):\n",
        "      if self.normalizingSum >0 :\n",
        "        self.avgStrategy[a] = self.strategySum[a] / self.normalizingSum\n",
        "      else:\n",
        "        self.avgStrategy[a] = 1/ self.NUM_ACTIONS\n",
        "    return self.avgStrategy "
      ],
      "execution_count": 10,
      "outputs": []
    },
    {
      "cell_type": "markdown",
      "metadata": {
        "id": "aWuqlaHOa7va"
      },
      "source": [
        "## 学習"
      ]
    },
    {
      "cell_type": "code",
      "metadata": {
        "colab": {
          "base_uri": "https://localhost:8080/",
          "height": 49,
          "referenced_widgets": [
            "478d73833e33444ea8f0dec9f7bbaf42",
            "ae0cb4c796124c25abfcaab6257bb946",
            "f42e509304e64ec28aeed14442df8017",
            "2a0adc5a75994591b9c4653b7374947a",
            "61752eea269e450f99ea5ee7bbda1d4e",
            "b2d0de1eaa044ff5b92bf682883fc712",
            "d915a2bfee524902a699dbb6892ddc6c",
            "37be6f8ae201454cb1adbd2266b13813",
            "0739987cf7004e198f98e9362df2d899",
            "49cb113e445d4d5e8a9e72ce2ea1d8a1",
            "5871776645ee497b855f1a4c696ba29c"
          ]
        },
        "id": "ZY1FKp4oCA2I",
        "outputId": "47c54237-6765-4b09-c48c-08584ab7dbaf"
      },
      "source": [
        "trainer = RPSTrainer()\n",
        "trainer.train()"
      ],
      "execution_count": 11,
      "outputs": [
        {
          "output_type": "display_data",
          "data": {
            "application/vnd.jupyter.widget-view+json": {
              "model_id": "478d73833e33444ea8f0dec9f7bbaf42",
              "version_minor": 0,
              "version_major": 2
            },
            "text/plain": [
              "  0%|          | 0/100000 [00:00<?, ?it/s]"
            ]
          },
          "metadata": {}
        }
      ]
    },
    {
      "cell_type": "markdown",
      "metadata": {
        "id": "_FJS4E5IbA2H"
      },
      "source": [
        "## 結果"
      ]
    },
    {
      "cell_type": "code",
      "metadata": {
        "colab": {
          "base_uri": "https://localhost:8080/"
        },
        "id": "y08Ga8CJa_hG",
        "outputId": "ef612566-f182-455e-89d2-d32a6e8fc79a"
      },
      "source": [
        "trainer.Get_average_mixed_strategy()"
      ],
      "execution_count": 12,
      "outputs": [
        {
          "output_type": "execute_result",
          "data": {
            "text/plain": [
              "[0.00015416666666666666, 0.9996883333333333, 0.0001575]"
            ]
          },
          "metadata": {},
          "execution_count": 12
        }
      ]
    }
  ]
}